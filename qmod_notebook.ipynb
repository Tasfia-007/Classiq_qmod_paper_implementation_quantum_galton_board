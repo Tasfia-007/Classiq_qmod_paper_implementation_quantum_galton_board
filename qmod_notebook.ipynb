{
  "nbformat": 4,
  "nbformat_minor": 0,
  "metadata": {
    "colab": {
      "provenance": []
    },
    "kernelspec": {
      "name": "python3",
      "display_name": "Python 3"
    },
    "language_info": {
      "name": "python"
    }
  },
  "cells": [
    {
      "cell_type": "markdown",
      "source": [
        "# Quantum Circuit for Simulating a Galton Board (QGB)\n",
        "\n",
        "**Overview:**  \n",
        "A quantum circuit simulates a Galton Board demonstrating exponential speedup by computing \\(2^n\\) trajectories with \\(\\mathcal{O}(n^2)\\) complexity. It uses Hadamard, X, controlled-SWAP, CNOT gates, and mid-circuit resets, modeling ball-peg interactions with modular \"quantum peg\" units.\n",
        "\n",
        "---\n",
        "\n",
        "**Basic Circuit:**  \n",
        "- Initialize all qubits to \\(|0\\rangle\\), invert middle qubit using X gate to represent the \"ball\".  \n",
        "- Put control qubit into superposition with Hadamard gate.  \n",
        "- Apply controlled-SWAP to simulate deflections left or right.  \n",
        "- Use inverted CNOT to stabilize control qubit.  \n",
        "- Additional SWAP creates an output state with equal 50% probability split.\n",
        "\n",
        "---\n",
        "\n",
        "**Scaling to an \\(n\\)-level Quantum Galton Board:**  \n",
        "- Replicate peg modules \\(n\\) times, with mid-circuit resets and CNOT gates to rebalance probabilities.  \n",
        "- Needs \\(2n\\) total qubits (\\(n\\) working + \\(n\\) ancilla).  \n",
        "- Gate complexity up to \\(2n^2 + 5n + 2\\).  \n",
        "- Outputs yield a single '1' bit, requiring post-processing for binomial distribution.\n",
        "\n",
        "---\n",
        "\n",
        "**Biased Quantum Galton Boards:**  \n",
        "- Replace Hadamard gates with \\(R_x(\\theta)\\) rotations to bias deflection.  \n",
        "- Example: 75% left vs 25% right with \\(\\theta = \\frac{2\\pi}{3}\\).  \n",
        "- Per-peg bias via iterative peg modules, resets, and corrective CNOTs.  \n",
        "- Approximate gate count \\(3n^2 + 3n + 1\\).\n",
        "\n",
        "---\n",
        "\n",
        "**Use Case:**  \n",
        "Simulation of statistical distributions (Hadamard, Gaussian) by tuning bias angles and peg setups, useful in probabilistic modeling and Monte Carlo simulations.\n"
      ],
      "metadata": {
        "id": "YEy6cYjD7iW8"
      }
    },
    {
      "cell_type": "code",
      "source": [],
      "metadata": {
        "id": "NzUm2vfe8dLC"
      },
      "execution_count": null,
      "outputs": []
    }
  ]
}